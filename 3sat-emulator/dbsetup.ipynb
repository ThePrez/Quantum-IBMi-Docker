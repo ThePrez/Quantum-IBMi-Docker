{
 "cells": [
  {
   "cell_type": "markdown",
   "id": "institutional-junction",
   "metadata": {},
   "source": [
    "## What's the Use of Quantum Computers?\n",
    "Presentation for COMMON, March 2021\n",
    "[Jack Woehr](mailto:jwoehr@softwoehr.com)"
   ]
  },
  {
   "cell_type": "code",
   "execution_count": null,
   "id": "diverse-difference",
   "metadata": {},
   "outputs": [],
   "source": [
    "import pyodbc\n",
    "import getpass\n",
    "import warnings\n",
    "from IPython.display import Markdown, display\n",
    "\n",
    "user = input(\"Enter user ID: \")\n",
    "with warnings.catch_warnings():\n",
    "    warnings.simplefilter('ignore', category=DeprecationWarning)\n",
    "    cn = pyodbc.connect(driver=\"IBM i Access ODBC Driver 64-bit\", system=\"common1.iinthecloud.com\", \n",
    "                        database=\"*SYSBAS\", uid=user, pwd=getpass.getpass(\"Password:\"))\n",
    "display(Markdown(\"**Connected to database**\"))"
   ]
  },
  {
   "cell_type": "code",
   "execution_count": null,
   "id": "e9aa8afd",
   "metadata": {},
   "outputs": [],
   "source": [
    "cursor = cn.cursor()\n",
    "try:\n",
    "    cursor.execute(\"create schema DIMACS\")\n",
    "except:\n",
    "    print(\"couldn't create schema. Probably already exists\")\n",
    "\n",
    "try:\n",
    "    cursor.execute(\"\"\"\n",
    "            CREATE OR REPLACE TABLE DIMACS.SAT3_1 (\n",
    "                A INTEGER,\n",
    "                B INTEGER,\n",
    "                C INTEGER\n",
    "            )\n",
    "            ON REPLACE DELETE ROWS\n",
    "        \"\"\")\n",
    "\n",
    "    cursor.execute(\"\"\"\n",
    "        INSERT INTO DIMACS.SAT3_1 (A,B,C) VALUES\n",
    "             (-1,-2,-3),\n",
    "             (1,-2,3),\n",
    "             (1,2,-3),\n",
    "             (1,-2,-3),\n",
    "             (-1,2,3)\n",
    "        \"\"\")\n",
    "finally:\n",
    "    cursor.close()\n",
    "    cn.close();\n"
   ]
  }
 ],
 "metadata": {
  "kernelspec": {
   "display_name": "Python 3 (ipykernel)",
   "language": "python",
   "name": "python3"
  },
  "language_info": {
   "codemirror_mode": {
    "name": "ipython",
    "version": 3
   },
   "file_extension": ".py",
   "mimetype": "text/x-python",
   "name": "python",
   "nbconvert_exporter": "python",
   "pygments_lexer": "ipython3",
   "version": "3.10.4"
  }
 },
 "nbformat": 4,
 "nbformat_minor": 5
}
