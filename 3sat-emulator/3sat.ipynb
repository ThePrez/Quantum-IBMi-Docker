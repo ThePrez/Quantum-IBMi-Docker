{
 "cells": [
  {
   "cell_type": "markdown",
   "id": "institutional-junction",
   "metadata": {},
   "source": [
    "## What's the Use of Quantum Computers?\n",
    "Presentation for COMMON, March 2021\n",
    "[Jack Woehr](mailto:jwoehr@softwoehr.com)"
   ]
  },
  {
   "cell_type": "code",
   "execution_count": null,
   "id": "diverse-difference",
   "metadata": {},
   "outputs": [],
   "source": [
    "import numpy as np\n",
    "from qiskit import Aer\n",
    "from qiskit.visualization import plot_histogram\n",
    "from qiskit.utils import QuantumInstance\n",
    "from qiskit.algorithms import Grover, AmplificationProblem\n",
    "from qiskit.circuit.classicalfunction import ClassicalFunction\n",
    "from qiskit.circuit.library import PhaseOracle\n",
    "import tempfile\n",
    "import getpass\n",
    "import pyodbc\n",
    "import warnings\n",
    "from IPython.display import Markdown, display"
   ]
  },
  {
   "cell_type": "code",
   "execution_count": null,
   "id": "enabling-young",
   "metadata": {},
   "outputs": [],
   "source": [
    "user = input(\"Enter user ID: \")\n",
    "with warnings.catch_warnings():\n",
    "    warnings.simplefilter('ignore', category=DeprecationWarning)\n",
    "    cn = pyodbc.connect(driver=\"IBM i Access ODBC Driver 64-bit\", system=\"common1.iinthecloud.com\", \n",
    "                        database=\"*SYSBAS\", uid=user, pwd=getpass.getpass(\"Password:\"))\n",
    "    display(Markdown(\"**Connected to database**\"))"
   ]
  },
  {
   "cell_type": "code",
   "execution_count": null,
   "id": "ac2fe946",
   "metadata": {},
   "outputs": [],
   "source": [
    "cursor = cn.cursor()\n",
    "cursor.execute(\"SELECT * FROM DIMACS.SAT3_1\")\n",
    "rows = cursor.fetchall()"
   ]
  },
  {
   "cell_type": "code",
   "execution_count": null,
   "id": "bronze-middle",
   "metadata": {},
   "outputs": [],
   "source": [
    "input_3sat = '''\n",
    "c example DIMACS-CNF 3-SAT\n",
    "p cnf 3 5\n",
    "'''\n",
    "for row in rows:\n",
    "    input_3sat += str(row[0]) + ' ' + str(row[1]) + ' ' + str(row[2]) + ' ' + '0\\n'\n",
    "print(input_3sat)\n",
    "fp = tempfile.NamedTemporaryFile(mode='w+t', delete=False)\n",
    "fp.write(input_3sat)\n",
    "file_name = fp.name\n",
    "fp.close()"
   ]
  },
  {
   "cell_type": "code",
   "execution_count": null,
   "id": "c82d4377",
   "metadata": {},
   "outputs": [],
   "source": [
    "oracle = PhaseOracle.from_dimacs_file(file_name)\n",
    "oracle.draw()"
   ]
  },
  {
   "cell_type": "code",
   "execution_count": null,
   "id": "2850273e",
   "metadata": {},
   "outputs": [],
   "source": [
    "backend = Aer.get_backend('qasm_simulator')\n",
    "qinstance = QuantumInstance(backend, shots=1024)"
   ]
  },
  {
   "cell_type": "code",
   "execution_count": null,
   "id": "taken-thing",
   "metadata": {},
   "outputs": [],
   "source": [
    "problem = AmplificationProblem(oracle=oracle, is_good_state=oracle.evaluate_bitstring)\n",
    "grover = Grover(quantum_instance=qinstance)\n",
    "\n",
    "result = grover.amplify(problem)\n",
    "print(result)"
   ]
  },
  {
   "cell_type": "code",
   "execution_count": null,
   "id": "working-essex",
   "metadata": {},
   "outputs": [],
   "source": [
    "plot_histogram(result.circuit_results)"
   ]
  }
 ],
 "metadata": {
  "kernelspec": {
   "display_name": "Python 3 (ipykernel)",
   "language": "python",
   "name": "python3"
  },
  "language_info": {
   "codemirror_mode": {
    "name": "ipython",
    "version": 3
   },
   "file_extension": ".py",
   "mimetype": "text/x-python",
   "name": "python",
   "nbconvert_exporter": "python",
   "pygments_lexer": "ipython3",
   "version": "3.10.4"
  }
 },
 "nbformat": 4,
 "nbformat_minor": 5
}
